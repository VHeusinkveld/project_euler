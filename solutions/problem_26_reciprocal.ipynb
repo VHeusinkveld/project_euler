{
 "cells": [
  {
   "cell_type": "markdown",
   "metadata": {},
   "source": [
    "# Problem 26\n",
    "A unit fraction contains 1 in the numerator. The decimal representation of the unit fractions with denominators 2 to 10 are given:\n",
    "\n",
    "1/2\t= \t0.5\n",
    "1/3\t= \t0.(3)\n",
    "1/4\t= \t0.25\n",
    "1/5\t= \t0.2\n",
    "1/6\t= \t0.1(6)\n",
    "1/7\t= \t0.(142857)\n",
    "1/8\t= \t0.125\n",
    "1/9\t= \t0.(1)\n",
    "1/10\t= \t0.1\n",
    "Where 0.1(6) means 0.166666..., and has a 1-digit recurring cycle. It can be seen that 1/7 has a 6-digit recurring cycle.\n",
    "\n",
    "Find the value of d < 1000 for which 1/d contains the longest recurring cycle in its decimal fraction part.\n",
    "\n",
    "---\n",
    "\n",
    "A usefull page:\n",
    "https://en.wikipedia.org/wiki/Repeating_decimal\n",
    "\n",
    "and \n",
    "\n",
    "https://thestarman.pcministry.com/math/rec/RepeatDec.htm"
   ]
  },
  {
   "cell_type": "code",
   "execution_count": 100,
   "metadata": {},
   "outputs": [],
   "source": [
    "import itertools\n",
    "\n",
    "def is_prime(num):\n",
    "    if num > 1:\n",
    "        # check for factors\n",
    "        for i in range(2,int(num**(.5))+1):\n",
    "            if (num % i) == 0:\n",
    "                return False\n",
    "        else:\n",
    "            return True\n",
    "        \n",
    "\n",
    "def get_prime_factors(n):\n",
    "    for i in itertools.chain([2], itertools.count(3, 2)):\n",
    "        if n <= 1:\n",
    "            break\n",
    "        while n % i == 0:\n",
    "            n //= i\n",
    "            yield i\n",
    "\n",
    "            \n",
    "def get_repeating_decimal_length(number):\n",
    "    length = 0\n",
    "    numerator = 0\n",
    "    remainder = 3.14159265359\n",
    "\n",
    "    i = 0\n",
    "    while remainder != 0:  \n",
    "        numerator += 9 * 10**i\n",
    "        denominator = 1*number\n",
    "\n",
    "        factor = numerator//denominator\n",
    "        check_val = factor * denominator\n",
    "        \n",
    "        if check_val == numerator:\n",
    "            remainder = 0\n",
    "        else:\n",
    "            pass\n",
    "        #remainder = (numerator/denominator)%1\n",
    "\n",
    "        length += 1\n",
    "        i += 1\n",
    "        \n",
    "    return length"
   ]
  },
  {
   "cell_type": "code",
   "execution_count": 134,
   "metadata": {},
   "outputs": [],
   "source": [
    "primes = list(filter(lambda x: is_prime(x), range(2, 1001)))\n",
    "primes.remove(2)\n",
    "primes.remove(5)\n",
    "\n",
    "prime_repeating_length = []\n",
    "for prime in primes:\n",
    "    repeating_decimal_length = get_repeating_decimal_length(prime)\n",
    "    prime_repeating_length.append([prime, repeating_decimal_length])    \n",
    "\n",
    "prime_repeating_length = dict(prime_repeating_length)"
   ]
  },
  {
   "cell_type": "code",
   "execution_count": null,
   "metadata": {},
   "outputs": [],
   "source": []
  },
  {
   "cell_type": "code",
   "execution_count": 153,
   "metadata": {},
   "outputs": [
    {
     "data": {
      "text/plain": [
       "961"
      ]
     },
     "execution_count": 153,
     "metadata": {},
     "output_type": "execute_result"
    }
   ],
   "source": [
    "31**2"
   ]
  },
  {
   "cell_type": "code",
   "execution_count": 165,
   "metadata": {},
   "outputs": [
    {
     "data": {
      "text/plain": [
       "0.16666666666666666"
      ]
     },
     "execution_count": 165,
     "metadata": {},
     "output_type": "execute_result"
    }
   ],
   "source": [
    "1/6"
   ]
  },
  {
   "cell_type": "code",
   "execution_count": 162,
   "metadata": {},
   "outputs": [
    {
     "data": {
      "text/plain": [
       "16"
      ]
     },
     "execution_count": 162,
     "metadata": {},
     "output_type": "execute_result"
    }
   ],
   "source": [
    "get_repeating_decimal_length(3*17)"
   ]
  },
  {
   "cell_type": "code",
   "execution_count": 147,
   "metadata": {},
   "outputs": [
    {
     "data": {
      "text/plain": [
       "[3, 7, 11, 13, 17, 19, 23, 29, 31, 37]"
      ]
     },
     "execution_count": 147,
     "metadata": {},
     "output_type": "execute_result"
    }
   ],
   "source": [
    "primes[:10]"
   ]
  },
  {
   "cell_type": "markdown",
   "metadata": {},
   "source": [
    "We see that 3, 6, 7 and 9 have a recurrance"
   ]
  },
  {
   "cell_type": "code",
   "execution_count": 126,
   "metadata": {},
   "outputs": [],
   "source": [
    "from functools import reduce\n",
    "\n",
    "def divisors(n):    \n",
    "    a = set(reduce(list.__add__, \n",
    "                ([i, n//i] for i in range(1, int(n**0.5) + 1) if n % i == 0)))\n",
    "    a.remove(n)\n",
    "    \n",
    "    return a\n",
    "\n",
    "\n"
   ]
  },
  {
   "cell_type": "code",
   "execution_count": 352,
   "metadata": {},
   "outputs": [],
   "source": [
    "import numpy as np\n",
    "\n",
    "result = []\n",
    "\n",
    "for i in range(2, 100):\n",
    "    length_found = False\n",
    "    \n",
    "    numerator = 0\n",
    "    denominator = 10**(-int(np.log10(i-1)))*i\n",
    "    \n",
    "    previous_remainder = np.pi\n",
    "    \n",
    "    j = 1\n",
    "    while not length_found:\n",
    "        numerator += 9*(10**(j-1))\n",
    "        remainder = (numerator/denominator)%1\n",
    "\n",
    "        if remainder <= 1e-5:\n",
    "            result.append([i, j])\n",
    "            length_found = True\n",
    "            break\n",
    "            \n",
    "        if abs(previous_remainder - remainder) <= 1e-5:\n",
    "            break\n",
    "            \n",
    "        previous_remainder = 1*remainder\n",
    "        j += 1\n",
    "\n"
   ]
  },
  {
   "cell_type": "code",
   "execution_count": 390,
   "metadata": {},
   "outputs": [
    {
     "data": {
      "text/plain": [
       "0.0"
      ]
     },
     "execution_count": 390,
     "metadata": {},
     "output_type": "execute_result"
    }
   ],
   "source": []
  },
  {
   "cell_type": "code",
   "execution_count": 392,
   "metadata": {},
   "outputs": [
    {
     "data": {
      "text/plain": [
       "0.0"
      ]
     },
     "execution_count": 392,
     "metadata": {},
     "output_type": "execute_result"
    }
   ],
   "source": [
    "(1/19 * 99999999999999999)%1"
   ]
  },
  {
   "cell_type": "code",
   "execution_count": 370,
   "metadata": {},
   "outputs": [
    {
     "data": {
      "text/plain": [
       "473684210526315.8"
      ]
     },
     "execution_count": 370,
     "metadata": {},
     "output_type": "execute_result"
    }
   ],
   "source": [
    "#1/19 * 99999999999999999\n",
    "(1/19 * 9999999999999999 - 1/19 * 999999999999999)"
   ]
  },
  {
   "cell_type": "code",
   "execution_count": 327,
   "metadata": {},
   "outputs": [
    {
     "data": {
      "text/plain": [
       "9.999843314290047e-06"
      ]
     },
     "execution_count": 327,
     "metadata": {},
     "output_type": "execute_result"
    }
   ],
   "source": [
    "(1/14 * 10 * 999999 + 1e-5)%1 #<= 1e-4"
   ]
  },
  {
   "cell_type": "code",
   "execution_count": 257,
   "metadata": {},
   "outputs": [
    {
     "data": {
      "text/plain": [
       "0.0"
      ]
     },
     "execution_count": 257,
     "metadata": {},
     "output_type": "execute_result"
    }
   ],
   "source": [
    "(1/7 * 999999)% 1"
   ]
  },
  {
   "cell_type": "code",
   "execution_count": null,
   "metadata": {},
   "outputs": [],
   "source": []
  }
 ],
 "metadata": {
  "kernelspec": {
   "display_name": "Python 3",
   "language": "python",
   "name": "python3"
  },
  "language_info": {
   "codemirror_mode": {
    "name": "ipython",
    "version": 3
   },
   "file_extension": ".py",
   "mimetype": "text/x-python",
   "name": "python",
   "nbconvert_exporter": "python",
   "pygments_lexer": "ipython3",
   "version": "3.6.9"
  }
 },
 "nbformat": 4,
 "nbformat_minor": 4
}

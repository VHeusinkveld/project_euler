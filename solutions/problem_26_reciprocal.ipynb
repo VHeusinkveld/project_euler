{
 "cells": [
  {
   "cell_type": "markdown",
   "metadata": {},
   "source": [
    "# Problem 26\n",
    "A unit fraction contains 1 in the numerator. The decimal representation of the unit fractions with denominators 2 to 10 are given:\n",
    "\n",
    "1/2\t= \t0.5\n",
    "1/3\t= \t0.(3)\n",
    "1/4\t= \t0.25\n",
    "1/5\t= \t0.2\n",
    "1/6\t= \t0.1(6)\n",
    "1/7\t= \t0.(142857)\n",
    "1/8\t= \t0.125\n",
    "1/9\t= \t0.(1)\n",
    "1/10\t= \t0.1\n",
    "Where 0.1(6) means 0.166666..., and has a 1-digit recurring cycle. It can be seen that 1/7 has a 6-digit recurring cycle.\n",
    "\n",
    "Find the value of d < 1000 for which 1/d contains the longest recurring cycle in its decimal fraction part.\n",
    "\n",
    "---\n",
    "\n",
    "Usefull pages: https://en.wikipedia.org/wiki/Repeating_decimal and https://thestarman.pcministry.com/math/rec/RepeatDec.htm"
   ]
  },
  {
   "cell_type": "markdown",
   "metadata": {},
   "source": [
    "From this we learn that we dont care about 1/(2^n * val) and 1/(5^n * val), since they will just result in times .2 and times .5, and will not have an effect on the recurring cycle. Furthermore we note that often primes create such a recurrance cycle. However, (1/7 * 1/7) = 1/49 creates a different recurrance cycle, thus we cannot only take the primes. We also have to take into account if the number factorized into its prime factors (except for 2 and 5).\n",
    "\n",
    "For the cycle length we use a trick that when you devide the denometnator of the fraction by 9, 99, 999, ... where the number of nines represents the length of the cycle, results in an integer value. This would be most easily implemented using a module operator. However then you get into floating point division accuracy (+-7 decimal digits), thus we implement it as an integer multiplication for which python seems to have an infinite (rather computer limited), precision."
   ]
  },
  {
   "cell_type": "code",
   "execution_count": 10,
   "metadata": {},
   "outputs": [
    {
     "name": "stdout",
     "output_type": "stream",
     "text": [
      "2 0.8571428571428577\n",
      "3 0.4285714285714164\n",
      "4 0.14285714285711038\n",
      "5 0.285714285713766\n",
      "6 0.714285714289872\n",
      "7 0.0\n",
      "8 0.8571428563445807\n",
      "9 0.4285714328289032\n"
     ]
    }
   ],
   "source": [
    "# An example using 1/7\n",
    "denominator = 7\n",
    "numerator = 0\n",
    "for i in range(1, 9):\n",
    "    numerator += 9*10**i\n",
    "    print(i+1, (numerator / denominator)%1)\n",
    "# for length 7 there is 0 leftover, hence this is the length of the cycle."
   ]
  },
  {
   "cell_type": "code",
   "execution_count": 11,
   "metadata": {},
   "outputs": [],
   "source": [
    "import itertools\n",
    "\n",
    "# To factorize a number into its prime factor\n",
    "def get_prime_factors(n):\n",
    "    for i in itertools.chain([2], itertools.count(3, 2)):\n",
    "        if n <= 1:\n",
    "            break\n",
    "        while n % i == 0:\n",
    "            n //= i\n",
    "            yield i\n",
    "\n",
    "# The 999 algorithm to get the length of the cycle\n",
    "def get_repeating_decimal_length(number):\n",
    "    length = 0\n",
    "    numerator = 0\n",
    "    remainder = 3.14159265359\n",
    "\n",
    "    i = 0\n",
    "    while remainder != 0:  \n",
    "        numerator += 9 * 10**i\n",
    "        denominator = 1*number\n",
    "\n",
    "        factor = numerator//denominator\n",
    "        check_val = factor * denominator\n",
    "        \n",
    "        if check_val == numerator:\n",
    "            remainder = 0\n",
    "        else:\n",
    "            pass\n",
    "        #remainder = (numerator/denominator)%1\n",
    "\n",
    "        length += 1\n",
    "        i += 1\n",
    "        \n",
    "    return length\n",
    "\n",
    "# A different range implementation such that we skip multiples of 2 and 5.\n",
    "def varied_step_range(start,stop,stepiter):\n",
    "    step = itertools.cycle(stepiter)\n",
    "    while start < stop:\n",
    "        yield start\n",
    "        start += next(step)"
   ]
  },
  {
   "cell_type": "code",
   "execution_count": 19,
   "metadata": {},
   "outputs": [
    {
     "name": "stdout",
     "output_type": "stream",
     "text": [
      "983 982\n",
      "101 ms ± 0 ns per loop (mean ± std. dev. of 1 run, 1 loop each)\n"
     ]
    }
   ],
   "source": [
    "%%timeit -n1 -r1\n",
    "from functools import reduce\n",
    "from collections import Counter\n",
    "\n",
    "max_cycle_val = 0\n",
    "max_cycle_length = 0\n",
    "\n",
    "for i in varied_step_range(3, 1000, [4,2,2,2]):\n",
    "    factor_count_dict = Counter(list(get_prime_factors(i)))\n",
    "    divisor = 1\n",
    "    for key in factor_count_dict.keys():\n",
    "        divisor *= key**(factor_count_dict[key])\n",
    "        \n",
    "    repeating_decimal_length = get_repeating_decimal_length(divisor)\n",
    "    \n",
    "    if repeating_decimal_length > max_cycle_length:\n",
    "        max_cycle_length = 1*repeating_decimal_length\n",
    "        max_cycle_val = i\n",
    "        \n",
    "print(max_cycle_val, max_cycle_length)"
   ]
  },
  {
   "cell_type": "markdown",
   "metadata": {},
   "source": [
    "100 ms is ok by me. Could probably be vastly improved."
   ]
  },
  {
   "cell_type": "markdown",
   "metadata": {},
   "source": [
    "An algorithm just going over the primes. I do not think that covers all cases:"
   ]
  },
  {
   "cell_type": "code",
   "execution_count": 122,
   "metadata": {},
   "outputs": [
    {
     "name": "stdout",
     "output_type": "stream",
     "text": [
      "72.8 ms ± 0 ns per loop (mean ± std. dev. of 1 run, 1 loop each)\n"
     ]
    }
   ],
   "source": [
    "%%timeit -n1 -r1\n",
    "primes = list(filter(lambda x: is_prime(x), varied_step_range(3, 1000, [4,2,2,2])))\n",
    "\n",
    "max_cycle_val = 0\n",
    "max_cycle_length = 0\n",
    "\n",
    "for prime in primes:\n",
    "    repeating_decimal_length = get_repeating_decimal_length(prime)\n",
    "    \n",
    "    if repeating_decimal_length > max_cycle_length:\n",
    "        max_cycle_length = 1*repeating_decimal_length\n",
    "        max_cycle_val = prime\n",
    "\n",
    "#prime_repeating_length = dict(prime_repeating_length)"
   ]
  },
  {
   "cell_type": "code",
   "execution_count": null,
   "metadata": {},
   "outputs": [],
   "source": []
  }
 ],
 "metadata": {
  "kernelspec": {
   "display_name": "Python 3",
   "language": "python",
   "name": "python3"
  },
  "language_info": {
   "codemirror_mode": {
    "name": "ipython",
    "version": 3
   },
   "file_extension": ".py",
   "mimetype": "text/x-python",
   "name": "python",
   "nbconvert_exporter": "python",
   "pygments_lexer": "ipython3",
   "version": "3.6.9"
  }
 },
 "nbformat": 4,
 "nbformat_minor": 4
}

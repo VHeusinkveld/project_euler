{
 "cells": [
  {
   "cell_type": "markdown",
   "metadata": {},
   "source": [
    "# Problem 27\n",
    "Euler discovered the remarkable quadratic formula:\n",
    "\n",
    "n^2+n+41\n",
    "It turns out that the formula will produce 40 primes for the consecutive integer values 0≤n≤39. However, when n=40,402+40+41=40(40+1)+41 is divisible by 41, and certainly when n=41,41^2+41+41 is clearly divisible by 41.\n",
    "\n",
    "The incredible formula n^2−79n+1601 was discovered, which produces 80 primes for the consecutive values 0≤n≤79. The product of the coefficients, −79 and 1601, is −126479.\n",
    "\n",
    "Considering quadratics of the form:\n",
    "\n",
    "n^2+an+b, where |a|<1000 and |b|≤1000\n",
    "\n",
    "where |n| is the modulus/absolute value of n\n",
    "e.g. |11|=11 and |−4|=4\n",
    "Find the product of the coefficients, a and b, for the quadratic expression that produces the maximum number of primes for consecutive values of n, starting with n=0.\n",
    "\n",
    "---"
   ]
  },
  {
   "cell_type": "code",
   "execution_count": null,
   "metadata": {},
   "outputs": [],
   "source": [
    "max_length = 1\n",
    "for temp_a, temp_b in permutations(range(-100, 100), 2):\n",
    "    n = 0\n",
    "    length = 0\n",
    "    \n",
    "    a = n**2\n",
    "    b = n*temp_a\n",
    "    c = 1*temp_b \n",
    "    \n",
    "    while value:\n"
   ]
  },
  {
   "cell_type": "code",
   "execution_count": 118,
   "metadata": {},
   "outputs": [
    {
     "data": {
      "text/plain": [
       "-627755"
      ]
     },
     "execution_count": 118,
     "metadata": {},
     "output_type": "execute_result"
    }
   ],
   "source": [
    "79**2 - 4*a*1601"
   ]
  },
  {
   "cell_type": "code",
   "execution_count": 107,
   "metadata": {},
   "outputs": [
    {
     "data": {
      "text/plain": [
       "-16235"
      ]
     },
     "execution_count": 107,
     "metadata": {},
     "output_type": "execute_result"
    }
   ],
   "source": [
    "1 - 4*a*41"
   ]
  },
  {
   "cell_type": "code",
   "execution_count": 105,
   "metadata": {},
   "outputs": [],
   "source": [
    "# this was a brute fore try before I got the ABC formula insight"
   ]
  },
  {
   "cell_type": "code",
   "execution_count": 99,
   "metadata": {},
   "outputs": [],
   "source": [
    "def get_length_prime_series(a, b):  \n",
    "    \n",
    "    n = 0\n",
    "    value = n**2 + a*n + b\n",
    "    length = 0\n",
    "    while is_prime(value):       \n",
    "        length += 1\n",
    "        n += 1\n",
    "        value = n**2 + a*n + b \n",
    "        \n",
    "    return length\n",
    "\n",
    "\n",
    "def is_prime(n):\n",
    "    for i in range(3, n):\n",
    "        if n % i == 0:\n",
    "            return False\n",
    "    return True\n"
   ]
  },
  {
   "cell_type": "code",
   "execution_count": 123,
   "metadata": {},
   "outputs": [
    {
     "name": "stdout",
     "output_type": "stream",
     "text": [
      "1.36 ms ± 6.43 µs per loop (mean ± std. dev. of 7 runs, 1000 loops each)\n"
     ]
    }
   ],
   "source": [
    "%%timeit\n",
    "\n",
    "from itertools import permutations\n",
    "\n",
    "max_length = 0\n",
    "val = 0\n",
    "for a, b in permutations(range(-10, 10), 2):\n",
    "    length = get_length_prime_series(a, b)\n",
    "    if length > max_length:\n",
    "        max_length = 1*length\n",
    "        val = a*b\n",
    "    "
   ]
  },
  {
   "cell_type": "markdown",
   "metadata": {},
   "source": [
    "The loop over only 100 by 100 takes already .5 seconds. ABC FORMULA!"
   ]
  },
  {
   "cell_type": "code",
   "execution_count": null,
   "metadata": {},
   "outputs": [],
   "source": []
  }
 ],
 "metadata": {
  "kernelspec": {
   "display_name": "Python 3",
   "language": "python",
   "name": "python3"
  },
  "language_info": {
   "codemirror_mode": {
    "name": "ipython",
    "version": 3
   },
   "file_extension": ".py",
   "mimetype": "text/x-python",
   "name": "python",
   "nbconvert_exporter": "python",
   "pygments_lexer": "ipython3",
   "version": "3.6.9"
  }
 },
 "nbformat": 4,
 "nbformat_minor": 4
}

{
 "cells": [
  {
   "cell_type": "markdown",
   "metadata": {},
   "source": [
    "# Problem 21\n",
    "Let d(n) be defined as the sum of proper divisors of n (numbers less than n which divide evenly into n).\n",
    "If d(a) = b and d(b) = a, where a ≠ b, then a and b are an amicable pair and each of a and b are called amicable numbers.\n",
    "\n",
    "For example, the proper divisors of 220 are 1, 2, 4, 5, 10, 11, 20, 22, 44, 55 and 110; therefore d(220) = 284. The proper divisors of 284 are 1, 2, 4, 71 and 142; so d(284) = 220.\n",
    "\n",
    "Evaluate the sum of all the amicable numbers under 10000.\n",
    "\n",
    "---"
   ]
  },
  {
   "cell_type": "code",
   "execution_count": 80,
   "metadata": {},
   "outputs": [],
   "source": [
    "# So we need a function that finds the proper divisors of a number\n",
    "from functools import reduce\n",
    "\n",
    "def sum_factors(n):    \n",
    "    a = set(reduce(list.__add__, \n",
    "                ([i, n//i] for i in range(1, int(n**0.5) + 1) if n % i == 0)))\n",
    "    a.remove(n)\n",
    "    \n",
    "    return sum(a)\n",
    "\n",
    "# A numpy imlementation was tried but it is slower.\n",
    "def sum_factors_np(n):  \n",
    "    import numpy as np\n",
    "    a = (np.argwhere(np.mod(n, np.arange(1, int(n**0.5) + 1)) == 0) + 1).T[0]\n",
    "    a = np.concatenate([a, n/a]) # still should take care of removing n itself -> not a proper divisor\n",
    "    \n",
    "    return np.sum(a)"
   ]
  },
  {
   "cell_type": "code",
   "execution_count": 81,
   "metadata": {},
   "outputs": [],
   "source": [
    "amicable = []\n",
    "for a in range(2, 10000):\n",
    "    da = sum_factors(a)   \n",
    "    db = sum_factors(da)\n",
    "\n",
    "    if a == db and a != da:\n",
    "        amicable.extend([a, da])\n",
    "        \n",
    "result = sum(set(amicable))"
   ]
  },
  {
   "cell_type": "code",
   "execution_count": 82,
   "metadata": {},
   "outputs": [
    {
     "name": "stdout",
     "output_type": "stream",
     "text": [
      "The full set: {1184, 6368, 5564, 5020, 2924, 284, 6232, 1210, 220, 2620}\n",
      "Sum: 31626\n"
     ]
    }
   ],
   "source": [
    "print(f'The full set: {set(amicable)}')\n",
    "print(f'Sum: {result}')"
   ]
  },
  {
   "cell_type": "code",
   "execution_count": null,
   "metadata": {},
   "outputs": [],
   "source": []
  }
 ],
 "metadata": {
  "kernelspec": {
   "display_name": "Python 3",
   "language": "python",
   "name": "python3"
  },
  "language_info": {
   "codemirror_mode": {
    "name": "ipython",
    "version": 3
   },
   "file_extension": ".py",
   "mimetype": "text/x-python",
   "name": "python",
   "nbconvert_exporter": "python",
   "pygments_lexer": "ipython3",
   "version": "3.6.9"
  }
 },
 "nbformat": 4,
 "nbformat_minor": 4
}

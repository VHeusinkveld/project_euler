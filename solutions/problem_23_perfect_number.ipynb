{
 "cells": [
  {
   "cell_type": "markdown",
   "metadata": {},
   "source": [
    "# Problem 23\n",
    "\n",
    "A perfect number is a number for which the sum of its proper divisors is exactly equal to the number. For example, the sum of the proper divisors of 28 would be 1 + 2 + 4 + 7 + 14 = 28, which means that 28 is a perfect number.\n",
    "\n",
    "A number n is called deficient if the sum of its proper divisors is less than n and it is called abundant if this sum exceeds n.\n",
    "\n",
    "As 12 is the smallest abundant number, 1 + 2 + 3 + 4 + 6 = 16, the smallest number that can be written as the sum of two abundant numbers is 24. By mathematical analysis, it can be shown that all integers greater than 28123 can be written as the sum of two abundant numbers. However, this upper limit cannot be reduced any further by analysis even though it is known that the greatest number that cannot be expressed as the sum of two abundant numbers is less than this limit.\n",
    "\n",
    "Find the sum of all the positive integers which cannot be written as the sum of two abundant numbers.\n",
    "\n",
    "---"
   ]
  },
  {
   "cell_type": "code",
   "execution_count": 7,
   "metadata": {},
   "outputs": [],
   "source": [
    "# reuse the factor code of exercise 21\n",
    "from functools import reduce\n",
    "def sum_factors(n):    \n",
    "    a = set(reduce(list.__add__, \n",
    "                ([i, n//i] for i in range(1, int(n**0.5) + 1) if n % i == 0)))\n",
    "    a.remove(n)\n",
    "    \n",
    "    return sum(a)"
   ]
  },
  {
   "cell_type": "code",
   "execution_count": 92,
   "metadata": {},
   "outputs": [
    {
     "name": "stdout",
     "output_type": "stream",
     "text": [
      "4179871\n",
      "2.12 s ± 0 ns per loop (mean ± std. dev. of 1 run, 1 loop each)\n"
     ]
    }
   ],
   "source": [
    "%%timeit -n1 -r1\n",
    "# First get all the abudant numbers smaller than N\n",
    "N = 28123 + 1\n",
    "\n",
    "abundant_numbers = []\n",
    "for n in range(1, N):\n",
    "    if n < sum_factors(n):\n",
    "        abundant_numbers.append(n)\n",
    "\n",
    "# Compute the different sums \n",
    "import numpy as np\n",
    "a = np.array(abundant_numbers)\n",
    "X, Y = np.meshgrid(a, a) # get all permuations \n",
    "Z = (X + Y)\n",
    "Z = Z[Z < 28123 + 1]\n",
    "\n",
    "Z = list(set(Z.tolist()))\n",
    "\n",
    "# Eliminate the sums that are possible\n",
    "options = list(range(1, N))\n",
    "for z in Z:\n",
    "    options.remove(z)\n",
    "print(sum(options))"
   ]
  },
  {
   "cell_type": "markdown",
   "metadata": {},
   "source": [
    "Bit slow, but it works."
   ]
  },
  {
   "cell_type": "code",
   "execution_count": null,
   "metadata": {},
   "outputs": [],
   "source": []
  },
  {
   "cell_type": "code",
   "execution_count": 161,
   "metadata": {},
   "outputs": [],
   "source": [
    "# the next approach was tried but it turns out it is even slower"
   ]
  },
  {
   "cell_type": "code",
   "execution_count": 162,
   "metadata": {},
   "outputs": [
    {
     "name": "stdout",
     "output_type": "stream",
     "text": [
      "The cython extension is already loaded. To reload it, use:\n",
      "  %reload_ext cython\n"
     ]
    }
   ],
   "source": [
    "%load_ext cython"
   ]
  },
  {
   "cell_type": "code",
   "execution_count": 163,
   "metadata": {},
   "outputs": [],
   "source": [
    "%%cython \n",
    "#--annotate\n",
    "import numpy as np\n",
    "cimport numpy as np\n",
    "cimport cython\n",
    "\n",
    "cdef int N, n, ni, nn, abundant_number1, abundant_number2\n",
    "cdef list abundant_numbers_list\n",
    "\n",
    "from functools import reduce\n",
    "def sum_factors(n):    \n",
    "    a = set(reduce(list.__add__, \n",
    "                ([i, n//i] for i in range(1, int(n**0.5) + 1) if n % i == 0)))\n",
    "    a.remove(n)\n",
    "    \n",
    "    return sum(a)\n",
    "\n",
    "# First get all the abudant numbers smaller than N\n",
    "N = 28123 + 1\n",
    "\n",
    "abundant_numbers_list = []\n",
    "for ni in range(1, N):\n",
    "    if ni < sum_factors(ni):\n",
    "        abundant_numbers_list.append(ni)\n",
    "\n",
    "cdef int[:] abundant_numbers = np.array(abundant_numbers_list)\n",
    "cdef int[:] vals = np.ones((N,), dtype=np.int32)\n",
    "for n in range(1, 100): # note we only just do till a 100 for testing \n",
    "    for abundant_number1 in abundant_numbers:\n",
    "        if n > abundant_number1:\n",
    "            nn = n - abundant_number1\n",
    "            for abundant_number2 in abundant_numbers:\n",
    "                if nn == abundant_number2:\n",
    "                    vals[n-1] = 0\n",
    "                else:\n",
    "                    break\n",
    "        else:\n",
    "            break"
   ]
  },
  {
   "cell_type": "code",
   "execution_count": null,
   "metadata": {},
   "outputs": [],
   "source": []
  }
 ],
 "metadata": {
  "kernelspec": {
   "display_name": "Python 3",
   "language": "python",
   "name": "python3"
  },
  "language_info": {
   "codemirror_mode": {
    "name": "ipython",
    "version": 3
   },
   "file_extension": ".py",
   "mimetype": "text/x-python",
   "name": "python",
   "nbconvert_exporter": "python",
   "pygments_lexer": "ipython3",
   "version": "3.6.9"
  }
 },
 "nbformat": 4,
 "nbformat_minor": 4
}

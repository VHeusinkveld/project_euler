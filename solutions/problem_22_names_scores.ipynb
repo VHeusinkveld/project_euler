{
 "cells": [
  {
   "cell_type": "markdown",
   "metadata": {},
   "source": [
    "# Problem 22\n",
    "Using names.txt (right click and 'Save Link/Target As...'), a 46K text file containing over five-thousand first names, begin by sorting it into alphabetical order. Then working out the alphabetical value for each name, multiply this value by its alphabetical position in the list to obtain a name score.\n",
    "\n",
    "For example, when the list is sorted into alphabetical order, COLIN, which is worth 3 + 15 + 12 + 9 + 14 = 53, is the 938th name in the list. So, COLIN would obtain a score of 938 × 53 = 49714.\n",
    "\n",
    "What is the total of all the name scores in the file?\n",
    "\n",
    "---"
   ]
  },
  {
   "cell_type": "code",
   "execution_count": 127,
   "metadata": {},
   "outputs": [
    {
     "name": "stdout",
     "output_type": "stream",
     "text": [
      "\"MARY\",\"PATRICIA\",\"LINDA\",\"BARBARA\",\"ELIZABETH\",\"JENNIFER\",\"MARIA\",\"SUSAN\",\"MARGARET\",\"DOROTHY\",\"LIS\n",
      "13_01_18_25_,16_01_20_18_09_03_09_01_,12_09_14_04_01_,02_01_18_02_01_18_01_,05_12_09_26_01_02_05_20_\n",
      "['01_01_18_15_14_', '01_02_02_05_25_', '01_02_02_09_05_', '01_02_02_25_', '01_02_04_21_12_']\n",
      "24.1 ms ± 0 ns per loop (mean ± std. dev. of 1 run, 1 loop each)\n"
     ]
    }
   ],
   "source": [
    "%%timeit -n1 -r1\n",
    "\n",
    "debug = True\n",
    "\n",
    "with open('problem_22_input.txt') as f:\n",
    "    data = f.read()\n",
    "# See whats inside\n",
    "if debug:\n",
    "    print(data[:100])\n",
    "\n",
    "# Chars to remove\n",
    "chars_remove = [',', '\"']\n",
    "chars = set(data) # chars to loop over\n",
    "for char_remove in chars_remove:\n",
    "    chars.remove(char_remove)\n",
    "\n",
    "data = data.replace('\"', '')\n",
    "# Replace chars with a number\n",
    "# leading padding of zeros for sorting\n",
    "# ord returns the unicode number (-64 for capital letters)\n",
    "for char in chars:\n",
    "    data = data.replace(char, f'{ord(char)-64:02}_')\n",
    "\n",
    "if debug:\n",
    "    print(data[:100])   \n",
    "\n",
    "# Create list items\n",
    "data = data.split(',')\n",
    "\n",
    "# Sort on number (equivalent to alphabetical)\n",
    "data.sort()\n",
    "\n",
    "if debug:\n",
    "    print(data[:5]) \n",
    "\n",
    "# Calculate the total name score\n",
    "name_score = 0\n",
    "for i, line in enumerate(data, start=1):\n",
    "    name_score += i*sum(map(int, line.split('_')[:-1]))"
   ]
  },
  {
   "cell_type": "code",
   "execution_count": 117,
   "metadata": {},
   "outputs": [
    {
     "name": "stdout",
     "output_type": "stream",
     "text": [
      "871198282\n"
     ]
    }
   ],
   "source": [
    "print(name_score)"
   ]
  },
  {
   "cell_type": "code",
   "execution_count": null,
   "metadata": {},
   "outputs": [],
   "source": []
  }
 ],
 "metadata": {
  "kernelspec": {
   "display_name": "Python 3",
   "language": "python",
   "name": "python3"
  },
  "language_info": {
   "codemirror_mode": {
    "name": "ipython",
    "version": 3
   },
   "file_extension": ".py",
   "mimetype": "text/x-python",
   "name": "python",
   "nbconvert_exporter": "python",
   "pygments_lexer": "ipython3",
   "version": "3.6.9"
  }
 },
 "nbformat": 4,
 "nbformat_minor": 4
}

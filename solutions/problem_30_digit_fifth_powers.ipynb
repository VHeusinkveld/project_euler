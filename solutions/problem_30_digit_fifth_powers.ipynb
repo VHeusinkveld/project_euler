{
 "cells": [
  {
   "cell_type": "markdown",
   "metadata": {},
   "source": [
    "# Problem 30\n",
    "\n",
    "Surprisingly there are only three numbers that can be written as the sum of fourth powers of their digits:\n",
    "```\n",
    "1634 = 1^4 + 6^4 + 3^4 + 4^4\n",
    "8208 = 8^4 + 2^4 + 0^4 + 8^4\n",
    "9474 = 9^4 + 4^4 + 7^4 + 4^4\n",
    "```\n",
    "As 1 = 1^4 is not a sum it is not included.\n",
    "\n",
    "The sum of these numbers is 1634 + 8208 + 9474 = 19316.\n",
    "\n",
    "Find the sum of all the numbers that can be written as the sum of fifth powers of their digits.\n",
    "\n",
    "---"
   ]
  },
  {
   "cell_type": "markdown",
   "metadata": {},
   "source": [
    "The problem is of the following form: \n",
    "\n",
    "$ a^p_0 + a_1^p + ... + a_n^p = 10^0 a_0 + 10^1 a_1 + ... 10^{n-1}a_n  $\n",
    "\n",
    "Maybe the best way is to do an exhaustive search starting from 0 to a certain N. However, we would need to implement some stopping criterion. To figure out which will be our upper limit we do the following check"
   ]
  },
  {
   "cell_type": "code",
   "execution_count": 183,
   "metadata": {},
   "outputs": [
    {
     "name": "stdout",
     "output_type": "stream",
     "text": [
      "354294 6\n"
     ]
    }
   ],
   "source": [
    "i = 1\n",
    "while i*(9**5) > 10**i:\n",
    "    i += 1\n",
    "print(i*(9**5), i)\n",
    "\n"
   ]
  },
  {
   "cell_type": "markdown",
   "metadata": {},
   "source": [
    "Now we can reduce the limit further by calculating:"
   ]
  },
  {
   "cell_type": "code",
   "execution_count": 187,
   "metadata": {},
   "outputs": [
    {
     "data": {
      "text/plain": [
       "295488"
      ]
     },
     "execution_count": 187,
     "metadata": {},
     "output_type": "execute_result"
    }
   ],
   "source": [
    "3**5 + 5*9**5"
   ]
  },
  {
   "cell_type": "code",
   "execution_count": 188,
   "metadata": {},
   "outputs": [
    {
     "data": {
      "text/plain": [
       "295277"
      ]
     },
     "execution_count": 188,
     "metadata": {},
     "output_type": "execute_result"
    }
   ],
   "source": [
    "2**5 + 5*9**5"
   ]
  },
  {
   "cell_type": "code",
   "execution_count": 189,
   "metadata": {},
   "outputs": [],
   "source": [
    "LIMIT = 295_277"
   ]
  },
  {
   "cell_type": "code",
   "execution_count": 197,
   "metadata": {},
   "outputs": [
    {
     "name": "stdout",
     "output_type": "stream",
     "text": [
      "sum = 443839\n",
      "sum = 443839\n",
      "sum = 443839\n",
      "sum = 443839\n",
      "sum = 443839\n",
      "760 ms ± 8.78 ms per loop (mean ± std. dev. of 5 runs, 1 loop each)\n"
     ]
    }
   ],
   "source": [
    "%%timeit -n1 -r5\n",
    "five_digit_list = []\n",
    "\n",
    "p = 5\n",
    "for i in range(2, LIMIT):\n",
    "    summed = 0\n",
    "    for number in str(i):\n",
    "        summed += int(number)**p\n",
    "        \n",
    "    if summed == i:\n",
    "        #print(i)\n",
    "        five_digit_list.append(i)\n",
    "        \n",
    "print(f'sum = {sum(five_digit_list)}')"
   ]
  },
  {
   "cell_type": "markdown",
   "metadata": {},
   "source": [
    "Using a dict to cache the powers"
   ]
  },
  {
   "cell_type": "code",
   "execution_count": 196,
   "metadata": {},
   "outputs": [
    {
     "name": "stdout",
     "output_type": "stream",
     "text": [
      "sum = 443839\n",
      "sum = 443839\n",
      "sum = 443839\n",
      "sum = 443839\n",
      "sum = 443839\n",
      "156 ms ± 5.48 ms per loop (mean ± std. dev. of 5 runs, 1 loop each)\n"
     ]
    }
   ],
   "source": [
    "%%timeit -n1 -r5\n",
    "\n",
    "p = 5\n",
    "\n",
    "fifth_powers = {}\n",
    "for i in range(10):\n",
    "    fifth_powers[f'{i}'] = i**p\n",
    "    \n",
    "five_digit_list = []\n",
    "for i in range(2, LIMIT):  \n",
    "    summed = 0\n",
    "    for number in str(i):\n",
    "        summed += fifth_powers[number]\n",
    "             \n",
    "    if summed == i:\n",
    "        five_digit_list.append(i)\n",
    "        \n",
    "print(f'sum = {sum(five_digit_list)}')"
   ]
  },
  {
   "cell_type": "code",
   "execution_count": null,
   "metadata": {},
   "outputs": [],
   "source": []
  }
 ],
 "metadata": {
  "kernelspec": {
   "display_name": "Python 3",
   "language": "python",
   "name": "python3"
  },
  "language_info": {
   "codemirror_mode": {
    "name": "ipython",
    "version": 3
   },
   "file_extension": ".py",
   "mimetype": "text/x-python",
   "name": "python",
   "nbconvert_exporter": "python",
   "pygments_lexer": "ipython3",
   "version": "3.6.9"
  }
 },
 "nbformat": 4,
 "nbformat_minor": 4
}

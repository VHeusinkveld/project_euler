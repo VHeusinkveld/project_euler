{
 "cells": [
  {
   "cell_type": "markdown",
   "metadata": {},
   "source": [
    "# Problem 24\n",
    "\n",
    "A permutation is an ordered arrangement of objects. For example, 3124 is one possible permutation of the digits 1, 2, 3 and 4. If all of the permutations are listed numerically or alphabetically, we call it lexicographic order. The lexicographic permutations of 0, 1 and 2 are:\n",
    "\n",
    "012   021   102   120   201   210\n",
    "\n",
    "What is the millionth lexicographic permutation of the digits 0, 1, 2, 3, 4, 5, 6, 7, 8 and 9?\n",
    "\n",
    "---"
   ]
  },
  {
   "cell_type": "markdown",
   "metadata": {},
   "source": [
    "## Brute force"
   ]
  },
  {
   "cell_type": "code",
   "execution_count": 47,
   "metadata": {},
   "outputs": [
    {
     "name": "stdout",
     "output_type": "stream",
     "text": [
      "2783915460\n",
      "1.4 s ± 0 ns per loop (mean ± std. dev. of 1 run, 1 loop each)\n"
     ]
    }
   ],
   "source": [
    "%%timeit -n1 -r1\n",
    "from itertools import permutations\n",
    "perms = [int(''.join(p)) for p in permutations('0123456789')]\n",
    "# perms.sort() # not needed, is in the correct order already\n",
    "print(perms[999999])"
   ]
  },
  {
   "cell_type": "markdown",
   "metadata": {},
   "source": [
    "## Less brute force\n",
    "note that it is important to feed permuations the numbers in increasing order"
   ]
  },
  {
   "cell_type": "code",
   "execution_count": 46,
   "metadata": {},
   "outputs": [
    {
     "name": "stdout",
     "output_type": "stream",
     "text": [
      "2783915460\n",
      "91.8 ms ± 0 ns per loop (mean ± std. dev. of 1 run, 1 loop each)\n"
     ]
    }
   ],
   "source": [
    "%%timeit -n1 -r1\n",
    "for i, p in enumerate(permutations('0123456789')):\n",
    "    if i == 999999:\n",
    "        print(int(''.join(p)))\n",
    "        break"
   ]
  },
  {
   "cell_type": "markdown",
   "metadata": {},
   "source": [
    "## Smart\n"
   ]
  },
  {
   "cell_type": "code",
   "execution_count": 64,
   "metadata": {},
   "outputs": [
    {
     "name": "stdout",
     "output_type": "stream",
     "text": [
      "Length of numbers to permute 10\n",
      "2 x (9 factorial) 725760\n",
      "3 x (9 factorial) 1088640\n"
     ]
    }
   ],
   "source": [
    "numbers = '0123456789'\n",
    "print('Length of numbers to permute', len(numbers))\n",
    "\n",
    "# we want the 1e6th permutation\n",
    "\n",
    "from math import factorial\n",
    "print('2 x (9 factorial)', 2*factorial(9))\n",
    "print('3 x (9 factorial)', 3*factorial(9))\n",
    "\n",
    "# the permutation is between those two. Hence the 1e6th permuation happens \n",
    "# at the 3rd option for the first number (which is 2)\n"
   ]
  },
  {
   "cell_type": "code",
   "execution_count": 74,
   "metadata": {},
   "outputs": [
    {
     "name": "stdout",
     "output_type": "stream",
     "text": [
      "2783915460\n",
      "36.3 ms ± 0 ns per loop (mean ± std. dev. of 1 run, 1 loop each)\n"
     ]
    }
   ],
   "source": [
    "%%timeit -n1 -r1\n",
    "reference_nr = 2*factorial(9)\n",
    "numbers='013456789' # leave out 2 \n",
    "\n",
    "for i, p in enumerate(permutations(numbers)):\n",
    "    if i == 999999 - reference_nr:\n",
    "        print(int('2' + ''.join(p))) # add 2 in front\n",
    "        break"
   ]
  },
  {
   "cell_type": "markdown",
   "metadata": {},
   "source": [
    "Almost a factor 3 faster"
   ]
  },
  {
   "cell_type": "markdown",
   "metadata": {},
   "source": [
    "## Smarter!\n",
    "Notice that the 1e6th entry is closer to 3 x factorial(9) than to 2 x f(9), hence if we decent it will be even faster"
   ]
  },
  {
   "cell_type": "code",
   "execution_count": 79,
   "metadata": {},
   "outputs": [
    {
     "name": "stdout",
     "output_type": "stream",
     "text": [
      "2783915460\n",
      "11.1 ms ± 0 ns per loop (mean ± std. dev. of 1 run, 1 loop each)\n"
     ]
    }
   ],
   "source": [
    "%%timeit -n1 -r1\n",
    "reference_nr = 3*factorial(9)\n",
    "numbers='987654310'\n",
    "\n",
    "for i, p in enumerate(permutations(numbers)):\n",
    "    if i == reference_nr - 1000000: # don't make an off by one mistake here\n",
    "        print(int('2' + ''.join(p)))\n",
    "        break"
   ]
  },
  {
   "cell_type": "markdown",
   "metadata": {},
   "source": [
    "Another factor 3 "
   ]
  },
  {
   "cell_type": "markdown",
   "metadata": {},
   "source": [
    "## Smartest!\n",
    "Devide out the factorial each time, and remove this entry from the number of possible choices."
   ]
  },
  {
   "cell_type": "code",
   "execution_count": 122,
   "metadata": {},
   "outputs": [
    {
     "name": "stdout",
     "output_type": "stream",
     "text": [
      "5.74 µs ± 1.02 µs per loop (mean ± std. dev. of 10 runs, 1000 loops each)\n"
     ]
    }
   ],
   "source": [
    "%%timeit -n1000 -r10\n",
    "from math import factorial\n",
    "permutation = 1000000\n",
    "\n",
    "numbers = list('0123456789') # this order is important!\n",
    "number = []\n",
    "\n",
    "for i in range(9, 0, -1):\n",
    "    val = factorial(i)\n",
    "    number_index = int(permutation/factorial(i)) # use int conversion as a floor function\n",
    "    number.append(numbers[number_index])\n",
    "    numbers.pop(number_index)\n",
    "    permutation = permutation%val # update with the remainder"
   ]
  },
  {
   "cell_type": "code",
   "execution_count": 121,
   "metadata": {},
   "outputs": [
    {
     "name": "stdout",
     "output_type": "stream",
     "text": [
      "278391560\n"
     ]
    }
   ],
   "source": [
    "print(int(''.join(number)))"
   ]
  },
  {
   "cell_type": "markdown",
   "metadata": {},
   "source": [
    "Much faster! factor 1000"
   ]
  },
  {
   "cell_type": "code",
   "execution_count": null,
   "metadata": {},
   "outputs": [],
   "source": []
  }
 ],
 "metadata": {
  "kernelspec": {
   "display_name": "Python 3",
   "language": "python",
   "name": "python3"
  },
  "language_info": {
   "codemirror_mode": {
    "name": "ipython",
    "version": 3
   },
   "file_extension": ".py",
   "mimetype": "text/x-python",
   "name": "python",
   "nbconvert_exporter": "python",
   "pygments_lexer": "ipython3",
   "version": "3.6.9"
  }
 },
 "nbformat": 4,
 "nbformat_minor": 4
}

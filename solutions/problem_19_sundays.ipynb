{
 "cells": [
  {
   "cell_type": "markdown",
   "metadata": {},
   "source": [
    "# Problem 19\n",
    "You are given the following information, but you may prefer to do some research for yourself.\n",
    "<pre>\n",
    "* 1 Jan 1900 was a Monday.\n",
    "* Thirty days has September,\n",
    "    April, June and November.\n",
    "    All the rest have thirty-one,\n",
    "    Saving February alone,\n",
    "    Which has twenty-eight, rain or shine.\n",
    "    And on leap years, twenty-nine.\n",
    "* A leap year occurs on any year evenly divisible by 4, but not on a century unless it is divisible by 400.\n",
    "</pre>\n",
    "How many Sundays fell on the first of the month during the twentieth century (1 Jan 1901 to 31 Dec 2000)?"
   ]
  },
  {
   "cell_type": "code",
   "execution_count": 1,
   "metadata": {},
   "outputs": [],
   "source": [
    "import numpy as np"
   ]
  },
  {
   "cell_type": "code",
   "execution_count": 88,
   "metadata": {},
   "outputs": [
    {
     "name": "stdout",
     "output_type": "stream",
     "text": [
      "[31. 28. 31. 30. 31. 30. 31. 31. 30. 31. 30. 31.]\n",
      "[31. 29. 31. 30. 31. 30. 31. 31. 30. 31. 30. 31.]\n"
     ]
    }
   ],
   "source": [
    "# Construct arrays for the number of days in different months\n",
    "# both for leap and normal years\n",
    "days_in_month = np.zeros(12)\n",
    "\n",
    "days_in_month[0:7:2] = 31\n",
    "days_in_month[7:12:2] = 31\n",
    "days_in_month[1:6:2] = 30\n",
    "days_in_month[8:12:2] = 30\n",
    "days_in_month[1] = 28\n",
    "\n",
    "days_in_month_leap = 1*days_in_month\n",
    "days_in_month_leap[1] += 1\n",
    "\n",
    "# check\n",
    "print(days_in_month)\n",
    "print(days_in_month_leap)"
   ]
  },
  {
   "cell_type": "code",
   "execution_count": 89,
   "metadata": {},
   "outputs": [
    {
     "name": "stdout",
     "output_type": "stream",
     "text": [
      "72.5 µs ± 7.25 µs per loop (mean ± std. dev. of 7 runs, 10000 loops each)\n"
     ]
    }
   ],
   "source": [
    "%%timeit \n",
    "\n",
    "year_start = 1900 # start at 1900 since we have info that 1 Jan 1900 is monday\n",
    "year_end = 2000\n",
    "\n",
    "months_total = []\n",
    "for i in range(year_end-year_start+1):\n",
    "    current_year = i + year_start\n",
    "    if (current_year)%4 == 0:\n",
    "        if (current_year)%100 == 0:\n",
    "            months_total.append(days_in_month)   \n",
    "        else:\n",
    "            months_total.append(days_in_month_leap)\n",
    "    else:\n",
    "        months_total.append(days_in_month)\n",
    "  \n",
    "# Do the cumulative sum over 1901 to 2000\n",
    "# if the cumsum is divisble by 7 this means it is a sunday (monday = 1)\n",
    "\n",
    "sundays_in_century = np.sum(np.cumsum(np.concatenate(months_total[1:]))%7 == 0)"
   ]
  },
  {
   "cell_type": "code",
   "execution_count": 90,
   "metadata": {},
   "outputs": [
    {
     "name": "stdout",
     "output_type": "stream",
     "text": [
      "171\n"
     ]
    }
   ],
   "source": [
    "print(sundays_in_century)"
   ]
  },
  {
   "cell_type": "code",
   "execution_count": null,
   "metadata": {},
   "outputs": [],
   "source": []
  }
 ],
 "metadata": {
  "kernelspec": {
   "display_name": "Python 3",
   "language": "python",
   "name": "python3"
  },
  "language_info": {
   "codemirror_mode": {
    "name": "ipython",
    "version": 3
   },
   "file_extension": ".py",
   "mimetype": "text/x-python",
   "name": "python",
   "nbconvert_exporter": "python",
   "pygments_lexer": "ipython3",
   "version": "3.6.9"
  }
 },
 "nbformat": 4,
 "nbformat_minor": 4
}

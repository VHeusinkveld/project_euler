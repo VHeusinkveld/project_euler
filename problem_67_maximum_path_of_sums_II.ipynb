{
 "cells": [
  {
   "cell_type": "markdown",
   "metadata": {},
   "source": [
    "## Problem 67\n",
    "\n",
    "By starting at the top of the triangle below and moving to adjacent numbers on the row below, the maximum total from top to bottom is 23.\n",
    "```\n",
    "3\n",
    "7 4\n",
    "2 4 6\n",
    "8 5 9 3\n",
    "```\n",
    "\n",
    "That is, 3 + 7 + 4 + 9 = 23.\n",
    "\n",
    "Find the maximum total from top to bottom in triangle.txt (right click and 'Save Link/Target As...'), a 15K text file containing a triangle with one-hundred rows.\n",
    "\n",
    "NOTE: This is a much more difficult version of Problem 18. It is not possible to try every route to solve this problem, as there are 299 altogether! If you could check one trillion (1012) routes every second it would take over twenty billion years to check them all. There is an efficient algorithm to solve it. ;o)"
   ]
  },
  {
   "cell_type": "markdown",
   "metadata": {},
   "source": [
    "---\n",
    "Lets see if the solution of problem 18 also works here:"
   ]
  },
  {
   "cell_type": "code",
   "execution_count": 6,
   "metadata": {},
   "outputs": [
    {
     "name": "stdout",
     "output_type": "stream",
     "text": [
      "2.52 ms ± 0 ns per loop (mean ± std. dev. of 1 run, 100 loops each)\n"
     ]
    }
   ],
   "source": [
    "%%timeit -n100 -r1\n",
    "\n",
    "# The triangle is exported to a file and loaded into memory\n",
    "with open('problem_67_intput.txt') as f:\n",
    "    data = f.readlines()\n",
    "\n",
    "# Cleaning up the data and convert to integers\n",
    "data = [list(map(int, line.strip().split(' '))) for line in data][::-1]\n",
    "\n",
    "# Go over the whole triangle from the bottom up and \n",
    "# at every stage select the highest neighbour out of the \n",
    "# two options. Keep just summing this higher nieghbour\n",
    "# until you are at the top\n",
    "\n",
    "max_depth = len(data)\n",
    "for depth, line in enumerate(data):\n",
    "    line_length = len(line)\n",
    "    \n",
    "    if depth == 0:\n",
    "        line_max = []\n",
    "        for i in range(line_length-1):\n",
    "            line_max.append(max(line[i], line[i+1])) \n",
    "            \n",
    "    else:\n",
    "        line_sums = [a + b for a, b in zip(line, line_max)]\n",
    "        line_max = []\n",
    "        for i in range(line_length-1):\n",
    "            line_max.append(max(line_sums[i], line_sums[i+1])) \n",
    "\n"
   ]
  },
  {
   "cell_type": "code",
   "execution_count": 7,
   "metadata": {},
   "outputs": [
    {
     "name": "stdout",
     "output_type": "stream",
     "text": [
      "7273\n"
     ]
    }
   ],
   "source": [
    "print(line_sums[0])"
   ]
  },
  {
   "cell_type": "markdown",
   "metadata": {},
   "source": [
    "It works!"
   ]
  },
  {
   "cell_type": "code",
   "execution_count": null,
   "metadata": {},
   "outputs": [],
   "source": []
  }
 ],
 "metadata": {
  "kernelspec": {
   "display_name": "Python 3",
   "language": "python",
   "name": "python3"
  },
  "language_info": {
   "codemirror_mode": {
    "name": "ipython",
    "version": 3
   },
   "file_extension": ".py",
   "mimetype": "text/x-python",
   "name": "python",
   "nbconvert_exporter": "python",
   "pygments_lexer": "ipython3",
   "version": "3.6.9"
  }
 },
 "nbformat": 4,
 "nbformat_minor": 4
}

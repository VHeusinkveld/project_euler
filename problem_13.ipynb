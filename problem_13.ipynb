{
 "cells": [
  {
   "cell_type": "markdown",
   "metadata": {},
   "source": [
    "Work out the first ten digits of the sum of the following one-hundred 50-digit numbers."
   ]
  },
  {
   "cell_type": "markdown",
   "metadata": {},
   "source": [
    "This is a simple solution which is think was not supposed to work when the problem was created. (The number is not supposed to fit in an integer, however in python they are not limited to 32, 64 or 128 bits)."
   ]
  },
  {
   "cell_type": "code",
   "execution_count": null,
   "metadata": {},
   "outputs": [],
   "source": [
    "import numpy as np"
   ]
  },
  {
   "cell_type": "code",
   "execution_count": 72,
   "metadata": {},
   "outputs": [
    {
     "name": "stdout",
     "output_type": "stream",
     "text": [
      "First 10 digits: 5537376230\n",
      "Bit length: 172 -> not supposed to fit in an int\n",
      "1.25 ms ± 0 ns per loop (mean ± std. dev. of 1 run, 1 loop each)\n"
     ]
    }
   ],
   "source": [
    "%%timeit -n1 -r1\n",
    "\n",
    "with open(\"problem_13.txt\") as f:\n",
    "    data = f.readlines()\n",
    "    data = ([int(entry.strip()) for entry in data])\n",
    "\n",
    "sum_val = np.sum(np.array(data))\n",
    "\n",
    "print(f'First 10 digits: {str(sum_val)[:10]}')\n",
    "print(f'Bit length: {sum_val.bit_length()} -> not supposed to fit in an int')"
   ]
  },
  {
   "cell_type": "markdown",
   "metadata": {},
   "source": [
    "A solution that I think was implied:"
   ]
  },
  {
   "cell_type": "code",
   "execution_count": 73,
   "metadata": {},
   "outputs": [
    {
     "name": "stdout",
     "output_type": "stream",
     "text": [
      "First 10 digits: 5537376230\n",
      "Bit length: 172 -> not supposed to fit in an int\n",
      "7.15 ms ± 0 ns per loop (mean ± std. dev. of 1 run, 1 loop each)\n"
     ]
    }
   ],
   "source": [
    "%%timeit -n1 -r1\n",
    "with open(\"problem_13.txt\") as f:\n",
    "    data = f.readlines()\n",
    "    data = ([entry.strip() for entry in data])\n",
    "\n",
    "for i in range(len(data) - 1):\n",
    "    if i == 0:\n",
    "        n1 = data[i]\n",
    "    \n",
    "    n2 = data[i+1]\n",
    "    n2 = n2.zfill(len(n1))\n",
    "    \n",
    "    sum_res = ''\n",
    "    carry = 0\n",
    "    for (d1, d2) in zip(n1[::-1], n2[::-1]):\n",
    "        new_val = int(d1) + int(d2) + carry\n",
    "        carry = new_val//10\n",
    "        new_val = new_val%10\n",
    "        \n",
    "        sum_res += str(new_val)\n",
    "    \n",
    "    if carry != 0:\n",
    "        sum_res += str(carry)\n",
    "    \n",
    "    n1 = sum_res[::-1]\n",
    "\n",
    "print(f'First 10 digits: {str(n1)[:10]}')\n",
    "print(f'Bit length: {sum_val.bit_length()} -> not supposed to fit in an int')"
   ]
  },
  {
   "cell_type": "code",
   "execution_count": null,
   "metadata": {},
   "outputs": [],
   "source": []
  }
 ],
 "metadata": {
  "kernelspec": {
   "display_name": "Python 3",
   "language": "python",
   "name": "python3"
  },
  "language_info": {
   "codemirror_mode": {
    "name": "ipython",
    "version": 3
   },
   "file_extension": ".py",
   "mimetype": "text/x-python",
   "name": "python",
   "nbconvert_exporter": "python",
   "pygments_lexer": "ipython3",
   "version": "3.6.9"
  }
 },
 "nbformat": 4,
 "nbformat_minor": 4
}

{
 "cells": [
  {
   "cell_type": "markdown",
   "metadata": {},
   "source": [
    "## Problem 15\n",
    "\n",
    "Starting in the top left corner of a 2×2 grid, and only being able to move to the right and down, there are exactly 6 routes to the bottom right corner.\n",
    "\n",
    "How many such routes are there through a 20×20 grid?\n",
    "\n",
    "---"
   ]
  },
  {
   "cell_type": "markdown",
   "metadata": {},
   "source": [
    "This seems to be related to a pascal triangle problem. Taking the 2x2 as an example. If you turn the square on its size than all the nodes coincide with a number in the traingle. The final answer will be in the bottom. Note that this requires some mental visualization.\n",
    "\n",
    "``` \n",
    "    1\n",
    "   1 1  \n",
    "  1 2 1\n",
    " 1 3 3 1\n",
    "1 4!6!2 1 \n",
    "```\n",
    "Thus we only need to figure out how long the triangle is for a 20x20 grid. Gues: 1 + 20 + 20 = 41"
   ]
  },
  {
   "cell_type": "code",
   "execution_count": 43,
   "metadata": {},
   "outputs": [
    {
     "name": "stdout",
     "output_type": "stream",
     "text": [
      "Value 137846528820\n",
      "247 µs ± 0 ns per loop (mean ± std. dev. of 1 run, 1 loop each)\n"
     ]
    }
   ],
   "source": [
    "%%timeit -n1 -r1\n",
    "\n",
    "# Building up pascals triangle and getting the maximum value of the last row.\n",
    "x = 41\n",
    "l = [1]\n",
    "for i in range(x - 1):\n",
    "    newlist = []\n",
    "    newlist.append(l[0])\n",
    "    for j in range(len(l) - 1):\n",
    "        newlist.append(l[j] + l[j+1])\n",
    "    newlist.append(l[-1])\n",
    "    l = newlist\n",
    "    \n",
    "    if i == x-2:\n",
    "        # Modified v\n",
    "        print(\"Value\", max(l))\n",
    "    "
   ]
  },
  {
   "cell_type": "markdown",
   "metadata": {},
   "source": [
    "---\n",
    "Turns out that there is a nice visualisation from this thinking here:\n",
    "\n",
    "http://mathforum.org/advanced/robertd/manhattan.html\n",
    "\n",
    "and that it generalizes to 2n!/n!n!"
   ]
  },
  {
   "cell_type": "code",
   "execution_count": 10,
   "metadata": {},
   "outputs": [
    {
     "name": "stdout",
     "output_type": "stream",
     "text": [
      "2.58 µs ± 0 ns per loop (mean ± std. dev. of 1 run, 1000 loops each)\n"
     ]
    }
   ],
   "source": [
    "%%timeit -n1000 -r1\n",
    "import math\n",
    "\n",
    "n = 20\n",
    "int(math.factorial(2*n)/(math.factorial(n)**2))\n",
    "# Much faster!"
   ]
  },
  {
   "cell_type": "code",
   "execution_count": 11,
   "metadata": {},
   "outputs": [
    {
     "name": "stdout",
     "output_type": "stream",
     "text": [
      "137846528820\n"
     ]
    }
   ],
   "source": [
    "print(int(math.factorial(2*n)/(math.factorial(n)**2)))"
   ]
  },
  {
   "cell_type": "code",
   "execution_count": null,
   "metadata": {},
   "outputs": [],
   "source": []
  }
 ],
 "metadata": {
  "kernelspec": {
   "display_name": "Python 3",
   "language": "python",
   "name": "python3"
  },
  "language_info": {
   "codemirror_mode": {
    "name": "ipython",
    "version": 3
   },
   "file_extension": ".py",
   "mimetype": "text/x-python",
   "name": "python",
   "nbconvert_exporter": "python",
   "pygments_lexer": "ipython3",
   "version": "3.6.9"
  }
 },
 "nbformat": 4,
 "nbformat_minor": 4
}

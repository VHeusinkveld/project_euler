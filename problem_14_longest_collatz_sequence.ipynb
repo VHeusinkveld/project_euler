{
 "cells": [
  {
   "cell_type": "markdown",
   "metadata": {},
   "source": [
    "# Problem 13\n",
    "The following iterative sequence is defined for the set of positive integers:\n",
    "\n",
    "n → n/2 (n is even)\n",
    "n → 3n + 1 (n is odd)\n",
    "\n",
    "Using the rule above and starting with 13, we generate the following sequence:\n",
    "\n",
    "13 → 40 → 20 → 10 → 5 → 16 → 8 → 4 → 2 → 1\n",
    "It can be seen that this sequence (starting at 13 and finishing at 1) contains 10 terms. Although it has not been proved yet (Collatz Problem), it is thought that all starting numbers finish at 1.\n",
    "\n",
    "Which starting number, under one million, produces the longest chain?\n",
    "\n",
    "NOTE: Once the chain starts the terms are allowed to go above one million."
   ]
  },
  {
   "cell_type": "code",
   "execution_count": 4,
   "metadata": {},
   "outputs": [],
   "source": [
    "def even_next(val):\n",
    "    return val//2\n",
    "\n",
    "def odd_next(val):\n",
    "    return val*3 + 1"
   ]
  },
  {
   "cell_type": "code",
   "execution_count": 22,
   "metadata": {},
   "outputs": [
    {
     "name": "stdout",
     "output_type": "stream",
     "text": [
      "(6171, 262)\n",
      " "
     ]
    },
    {
     "data": {
      "text/plain": [
       "         38 function calls in 0.359 seconds\n",
       "\n",
       "   Ordered by: internal time\n",
       "\n",
       "   ncalls  tottime  percall  cumtime  percall filename:lineno(function)\n",
       "        1    0.359    0.359    0.359    0.359 <string>:2(<module>)\n",
       "        1    0.000    0.000    0.359    0.359 {built-in method builtins.exec}\n",
       "        3    0.000    0.000    0.000    0.000 socket.py:342(send)\n",
       "        3    0.000    0.000    0.000    0.000 iostream.py:197(schedule)\n",
       "        2    0.000    0.000    0.000    0.000 iostream.py:384(write)\n",
       "        1    0.000    0.000    0.000    0.000 {built-in method builtins.print}\n",
       "        3    0.000    0.000    0.000    0.000 threading.py:1104(is_alive)\n",
       "        3    0.000    0.000    0.000    0.000 threading.py:1062(_wait_for_tstate_lock)\n",
       "        2    0.000    0.000    0.000    0.000 iostream.py:309(_is_master_process)\n",
       "        3    0.000    0.000    0.000    0.000 {method 'acquire' of '_thread.lock' objects}\n",
       "        3    0.000    0.000    0.000    0.000 iostream.py:93(_event_pipe)\n",
       "        2    0.000    0.000    0.000    0.000 iostream.py:322(_schedule_flush)\n",
       "        2    0.000    0.000    0.000    0.000 {built-in method nt.getpid}\n",
       "        2    0.000    0.000    0.000    0.000 {built-in method builtins.isinstance}\n",
       "        3    0.000    0.000    0.000    0.000 threading.py:506(is_set)\n",
       "        3    0.000    0.000    0.000    0.000 {method 'append' of 'collections.deque' objects}\n",
       "        1    0.000    0.000    0.000    0.000 {method 'disable' of '_lsprof.Profiler' objects}"
      ]
     },
     "metadata": {},
     "output_type": "display_data"
    }
   ],
   "source": [
    "%%prun\n",
    "#%%timeit -n1 -r1\n",
    "longest_sequence = (0, 0)\n",
    "for i in range(1, int(1e4)):\n",
    "    val = i\n",
    "    sequence_length = 1\n",
    "    while val != 1:\n",
    "        sequence_length += 1\n",
    "        if val%2 == 0:\n",
    "            val = val//2#even_next(val)\n",
    "        else:\n",
    "            val = val*3+1#odd_next(val)   \n",
    "            \n",
    "    if sequence_length > longest_sequence[1]:\n",
    "        longest_sequence = (i, sequence_length)\n",
    "        \n",
    "print(longest_sequence)"
   ]
  },
  {
   "cell_type": "code",
   "execution_count": 60,
   "metadata": {},
   "outputs": [],
   "source": [
    "from time import time\n",
    "\n",
    "def get_next_step(original, data):\n",
    "    mask_even = (data & 1) == 0\n",
    "    mask_odd = ~mask_even\n",
    "    \n",
    "    data[mask_even] = data[mask_even]/2\n",
    "    data[mask_odd] = 3*data[mask_odd] + 1\n",
    "    \n",
    "    mask_one = (data != 1)\n",
    "    mask_sum = np.sum(mask_one)\n",
    "    \n",
    "    if mask_sum != 1:\n",
    "        get_next_step(original[mask_one], data[mask_one])\n",
    "    else:\n",
    "        print(original[mask_one][0])"
   ]
  },
  {
   "cell_type": "code",
   "execution_count": 61,
   "metadata": {},
   "outputs": [
    {
     "name": "stdout",
     "output_type": "stream",
     "text": [
      "837799\n",
      " "
     ]
    },
    {
     "data": {
      "text/plain": [
       "         5119 function calls (4612 primitive calls) in 11.476 seconds\n",
       "\n",
       "   Ordered by: internal time\n",
       "\n",
       "   ncalls  tottime  percall  cumtime  percall filename:lineno(function)\n",
       "    508/1   11.157    0.022   11.462   11.462 <ipython-input-60-e2aa18de1673>:3(get_next_step)\n",
       "      508    0.296    0.001    0.296    0.001 {method 'reduce' of 'numpy.ufunc' objects}\n",
       "        1    0.008    0.008   11.475   11.475 <string>:2(<module>)\n",
       "        1    0.006    0.006    0.006    0.006 {built-in method numpy.arange}\n",
       "      508    0.003    0.000    0.299    0.001 fromnumeric.py:73(_wrapreduction)\n",
       "      508    0.002    0.000    0.302    0.001 fromnumeric.py:2045(sum)\n",
       "      508    0.002    0.000    0.305    0.001 <__array_function__ internals>:2(sum)\n",
       "      508    0.001    0.000    0.303    0.001 {built-in method numpy.core._multiarray_umath.implement_array_function}\n",
       "      508    0.001    0.000    0.001    0.000 fromnumeric.py:74(<dictcomp>)\n",
       "      510    0.000    0.000    0.000    0.000 {built-in method builtins.isinstance}\n",
       "      508    0.000    0.000    0.000    0.000 fromnumeric.py:2040(_sum_dispatcher)\n",
       "      508    0.000    0.000    0.000    0.000 {method 'items' of 'dict' objects}\n",
       "        3    0.000    0.000    0.000    0.000 socket.py:342(send)\n",
       "        1    0.000    0.000   11.476   11.476 {built-in method builtins.exec}\n",
       "        3    0.000    0.000    0.000    0.000 iostream.py:197(schedule)\n",
       "        2    0.000    0.000    0.000    0.000 iostream.py:384(write)\n",
       "        1    0.000    0.000    0.000    0.000 {built-in method builtins.print}\n",
       "        3    0.000    0.000    0.000    0.000 threading.py:1104(is_alive)\n",
       "        3    0.000    0.000    0.000    0.000 threading.py:1062(_wait_for_tstate_lock)\n",
       "        2    0.000    0.000    0.000    0.000 iostream.py:309(_is_master_process)\n",
       "        3    0.000    0.000    0.000    0.000 {method 'acquire' of '_thread.lock' objects}\n",
       "        3    0.000    0.000    0.000    0.000 iostream.py:93(_event_pipe)\n",
       "        2    0.000    0.000    0.000    0.000 iostream.py:322(_schedule_flush)\n",
       "        2    0.000    0.000    0.000    0.000 {built-in method nt.getpid}\n",
       "        3    0.000    0.000    0.000    0.000 threading.py:506(is_set)\n",
       "        1    0.000    0.000    0.000    0.000 {method 'disable' of '_lsprof.Profiler' objects}\n",
       "        3    0.000    0.000    0.000    0.000 {method 'append' of 'collections.deque' objects}"
      ]
     },
     "metadata": {},
     "output_type": "display_data"
    }
   ],
   "source": [
    "%%prun\n",
    "#%%timeit -r1 -n1\n",
    "import numpy as np\n",
    "tries = np.arange(1, int(1e6), dtype=np.int64)\n",
    "get_next_step(tries, 1*tries)    "
   ]
  },
  {
   "cell_type": "code",
   "execution_count": null,
   "metadata": {},
   "outputs": [],
   "source": [
    "np.arange(1, 100)"
   ]
  },
  {
   "cell_type": "code",
   "execution_count": null,
   "metadata": {},
   "outputs": [],
   "source": [
    "tries[mask]%2"
   ]
  },
  {
   "cell_type": "code",
   "execution_count": null,
   "metadata": {},
   "outputs": [],
   "source": []
  }
 ],
 "metadata": {
  "kernelspec": {
   "display_name": "Python 3",
   "language": "python",
   "name": "python3"
  },
  "language_info": {
   "codemirror_mode": {
    "name": "ipython",
    "version": 3
   },
   "file_extension": ".py",
   "mimetype": "text/x-python",
   "name": "python",
   "nbconvert_exporter": "python",
   "pygments_lexer": "ipython3",
   "version": "3.6.9"
  }
 },
 "nbformat": 4,
 "nbformat_minor": 4
}

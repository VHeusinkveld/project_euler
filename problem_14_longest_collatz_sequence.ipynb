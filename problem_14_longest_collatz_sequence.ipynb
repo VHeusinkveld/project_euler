{
 "cells": [
  {
   "cell_type": "markdown",
   "metadata": {},
   "source": [
    "# Problem 13\n",
    "The following iterative sequence is defined for the set of positive integers:\n",
    "\n",
    "n → n/2 (n is even)\n",
    "n → 3n + 1 (n is odd)\n",
    "\n",
    "Using the rule above and starting with 13, we generate the following sequence:\n",
    "\n",
    "13 → 40 → 20 → 10 → 5 → 16 → 8 → 4 → 2 → 1\n",
    "It can be seen that this sequence (starting at 13 and finishing at 1) contains 10 terms. Although it has not been proved yet (Collatz Problem), it is thought that all starting numbers finish at 1.\n",
    "\n",
    "Which starting number, under one million, produces the longest chain?\n",
    "\n",
    "NOTE: Once the chain starts the terms are allowed to go above one million."
   ]
  },
  {
   "cell_type": "markdown",
   "metadata": {},
   "source": [
    "## First brute force recursive implementation"
   ]
  },
  {
   "cell_type": "code",
   "execution_count": 1,
   "metadata": {},
   "outputs": [
    {
     "name": "stdout",
     "output_type": "stream",
     "text": [
      "(837799, 525)\n",
      "13 s ± 0 ns per loop (mean ± std. dev. of 1 run, 1 loop each)\n"
     ]
    }
   ],
   "source": [
    "%%timeit -n1 -r1\n",
    "longest_sequence = (0, 0)\n",
    "for i in range(1, int(1e6)):\n",
    "    val = i\n",
    "    sequence_length = 1\n",
    "    while val != 1:\n",
    "        sequence_length += 1\n",
    "        if val%2 == 0:\n",
    "            val = val//2\n",
    "        else:\n",
    "            val = val*3+1\n",
    "            \n",
    "    if sequence_length > longest_sequence[1]:\n",
    "        longest_sequence = (i, sequence_length)\n",
    "        \n",
    "print(longest_sequence)"
   ]
  },
  {
   "cell_type": "markdown",
   "metadata": {},
   "source": [
    "## Slightly vectorized approach"
   ]
  },
  {
   "cell_type": "code",
   "execution_count": 2,
   "metadata": {},
   "outputs": [],
   "source": [
    "from time import time\n",
    "import numpy as np\n",
    "def get_next_step(original, data):\n",
    "    mask_even = (data & 1) == 0\n",
    "    mask_odd = ~mask_even\n",
    "    \n",
    "    data[mask_even] = data[mask_even]/2\n",
    "    data[mask_odd] = 3*data[mask_odd] + 1\n",
    "    \n",
    "    mask_one = (data != 1)\n",
    "    mask_sum = np.sum(mask_one)\n",
    "    \n",
    "    if mask_sum != 1:\n",
    "        result = get_next_step(original[mask_one], data[mask_one])\n",
    "        return result\n",
    "    else:\n",
    "        return original[mask_one][0]"
   ]
  },
  {
   "cell_type": "code",
   "execution_count": 12,
   "metadata": {},
   "outputs": [
    {
     "name": "stdout",
     "output_type": "stream",
     "text": [
      "837799\n",
      "4.55 s ± 0 ns per loop (mean ± std. dev. of 1 run, 1 loop each)\n"
     ]
    }
   ],
   "source": [
    "%%timeit -r1 -n1\n",
    "\n",
    "tries = np.arange(1, int(1e6), dtype=np.int64)\n",
    "number = get_next_step(tries, 1*tries)    \n",
    "print(number)"
   ]
  },
  {
   "cell_type": "markdown",
   "metadata": {},
   "source": [
    "## Multiprocessing\n",
    "See: problem_14_mulitprocessing.py\n",
    "(due to the limitations with a jupyter notebook)"
   ]
  },
  {
   "cell_type": "markdown",
   "metadata": {},
   "source": [
    "## Smart recursie implementation"
   ]
  },
  {
   "cell_type": "code",
   "execution_count": 4,
   "metadata": {},
   "outputs": [
    {
     "name": "stdout",
     "output_type": "stream",
     "text": [
      "Number: 837799\n",
      "885 ms ± 0 ns per loop (mean ± std. dev. of 1 run, 1 loop each)\n"
     ]
    }
   ],
   "source": [
    "%%timeit -n1 -r1\n",
    "sequence_history = []\n",
    "for i in range(1, int(1e6)):\n",
    "    val = i\n",
    "    sequence_length = 1\n",
    "    \n",
    "    while val != 1:\n",
    "        sequence_length += 1\n",
    "        if val < i:\n",
    "            # Sequence has been calculated already\n",
    "            sequence_length += sequence_history[val-1]\n",
    "            val = 1\n",
    "        elif val%2 == 0:\n",
    "            val = val//2\n",
    "        else:\n",
    "            val = val*3+1\n",
    "            \n",
    "    sequence_history.append(sequence_length)\n",
    "    \n",
    "max_length = max(sequence_history)\n",
    "index = sequence_history.index(max_length)\n",
    "print(f'Number: {index + 1}')    "
   ]
  },
  {
   "cell_type": "markdown",
   "metadata": {},
   "source": [
    "## Cython implementation\n",
    "Factor 70x faster!!"
   ]
  },
  {
   "cell_type": "code",
   "execution_count": 45,
   "metadata": {},
   "outputs": [
    {
     "name": "stdout",
     "output_type": "stream",
     "text": [
      "The cython extension is already loaded. To reload it, use:\n",
      "  %reload_ext cython\n"
     ]
    }
   ],
   "source": [
    "%load_ext cython"
   ]
  },
  {
   "cell_type": "code",
   "execution_count": 117,
   "metadata": {},
   "outputs": [],
   "source": [
    "%%cython \n",
    "#--annotate\n",
    "\n",
    "import numpy as np\n",
    "\n",
    "cimport cython\n",
    "cimport numpy as np\n",
    " \n",
    "def get_max_length(int number):\n",
    "    cdef int n = number\n",
    "    cdef int max_number = 0 \n",
    "    \n",
    "    cdef unsigned long long val\n",
    "    cdef unsigned int i, sequence_length\n",
    "    #cdef list sequence_history = []\n",
    "    \n",
    "    cdef np.ndarray[np.int_t, ndim=1] sequence_history = np.zeros((n,), dtype=np.int)\n",
    "    \n",
    "    for i in range(1, n):\n",
    "        val = i\n",
    "        sequence_length = 1\n",
    "        while val != 1:\n",
    "            sequence_length += 1\n",
    "            if val < i:\n",
    "                # Sequence has been calculated already\n",
    "                sequence_length += sequence_history[val]\n",
    "                val = 1\n",
    "            elif val%2 == 0:\n",
    "                val = val//2\n",
    "            else:\n",
    "                val = val*3+1\n",
    "\n",
    "        sequence_history[i] = sequence_length\n",
    "    \n",
    "   # print(f'Number: {sequence_history.argmax()}')    "
   ]
  },
  {
   "cell_type": "code",
   "execution_count": 121,
   "metadata": {},
   "outputs": [
    {
     "name": "stdout",
     "output_type": "stream",
     "text": [
      "12.7 ms ± 0 ns per loop (mean ± std. dev. of 1 run, 100 loops each)\n"
     ]
    }
   ],
   "source": [
    "%timeit -n100 -r1 get_max_length(1000000)"
   ]
  },
  {
   "cell_type": "code",
   "execution_count": 123,
   "metadata": {},
   "outputs": [
    {
     "data": {
      "text/plain": [
       "69.68503937007874"
      ]
     },
     "execution_count": 123,
     "metadata": {},
     "output_type": "execute_result"
    }
   ],
   "source": [
    "# Faster by:\n",
    "885/12.7"
   ]
  }
 ],
 "metadata": {
  "kernelspec": {
   "display_name": "Python 3",
   "language": "python",
   "name": "python3"
  },
  "language_info": {
   "codemirror_mode": {
    "name": "ipython",
    "version": 3
   },
   "file_extension": ".py",
   "mimetype": "text/x-python",
   "name": "python",
   "nbconvert_exporter": "python",
   "pygments_lexer": "ipython3",
   "version": "3.6.9"
  }
 },
 "nbformat": 4,
 "nbformat_minor": 4
}

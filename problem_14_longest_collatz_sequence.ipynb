{
 "cells": [
  {
   "cell_type": "markdown",
   "metadata": {},
   "source": [
    "# Problem 13\n",
    "The following iterative sequence is defined for the set of positive integers:\n",
    "\n",
    "n → n/2 (n is even)\n",
    "n → 3n + 1 (n is odd)\n",
    "\n",
    "Using the rule above and starting with 13, we generate the following sequence:\n",
    "\n",
    "13 → 40 → 20 → 10 → 5 → 16 → 8 → 4 → 2 → 1\n",
    "It can be seen that this sequence (starting at 13 and finishing at 1) contains 10 terms. Although it has not been proved yet (Collatz Problem), it is thought that all starting numbers finish at 1.\n",
    "\n",
    "Which starting number, under one million, produces the longest chain?\n",
    "\n",
    "NOTE: Once the chain starts the terms are allowed to go above one million."
   ]
  },
  {
   "cell_type": "code",
   "execution_count": 1,
   "metadata": {},
   "outputs": [
    {
     "name": "stdout",
     "output_type": "stream",
     "text": [
      "(837799, 525)\n",
      "13 s ± 0 ns per loop (mean ± std. dev. of 1 run, 1 loop each)\n"
     ]
    }
   ],
   "source": [
    "%%timeit -n1 -r1\n",
    "longest_sequence = (0, 0)\n",
    "for i in range(1, int(1e6)):\n",
    "    val = i\n",
    "    sequence_length = 1\n",
    "    while val != 1:\n",
    "        sequence_length += 1\n",
    "        if val%2 == 0:\n",
    "            val = val//2\n",
    "        else:\n",
    "            val = val*3+1\n",
    "            \n",
    "    if sequence_length > longest_sequence[1]:\n",
    "        longest_sequence = (i, sequence_length)\n",
    "        \n",
    "print(longest_sequence)"
   ]
  },
  {
   "cell_type": "code",
   "execution_count": 2,
   "metadata": {},
   "outputs": [],
   "source": [
    "from time import time\n",
    "import numpy as np\n",
    "def get_next_step(original, data):\n",
    "    mask_even = (data & 1) == 0\n",
    "    mask_odd = ~mask_even\n",
    "    \n",
    "    data[mask_even] = data[mask_even]/2\n",
    "    data[mask_odd] = 3*data[mask_odd] + 1\n",
    "    \n",
    "    mask_one = (data != 1)\n",
    "    mask_sum = np.sum(mask_one)\n",
    "    \n",
    "    if mask_sum != 1:\n",
    "        result = get_next_step(original[mask_one], data[mask_one])\n",
    "        return result\n",
    "    else:\n",
    "        return original[mask_one][0]"
   ]
  },
  {
   "cell_type": "code",
   "execution_count": 12,
   "metadata": {},
   "outputs": [
    {
     "name": "stdout",
     "output_type": "stream",
     "text": [
      "837799\n",
      "4.55 s ± 0 ns per loop (mean ± std. dev. of 1 run, 1 loop each)\n"
     ]
    }
   ],
   "source": [
    "%%timeit -r1 -n1\n",
    "\n",
    "tries = np.arange(1, int(1e6), dtype=np.int64)\n",
    "number = get_next_step(tries, 1*tries)    \n",
    "print(number)"
   ]
  },
  {
   "cell_type": "code",
   "execution_count": null,
   "metadata": {},
   "outputs": [],
   "source": []
  }
 ],
 "metadata": {
  "kernelspec": {
   "display_name": "Python 3",
   "language": "python",
   "name": "python3"
  },
  "language_info": {
   "codemirror_mode": {
    "name": "ipython",
    "version": 3
   },
   "file_extension": ".py",
   "mimetype": "text/x-python",
   "name": "python",
   "nbconvert_exporter": "python",
   "pygments_lexer": "ipython3",
   "version": "3.6.9"
  }
 },
 "nbformat": 4,
 "nbformat_minor": 4
}
